{
  "nbformat": 4,
  "nbformat_minor": 0,
  "metadata": {
    "colab": {
      "provenance": [],
      "include_colab_link": true
    },
    "kernelspec": {
      "name": "python3",
      "display_name": "Python 3"
    },
    "language_info": {
      "name": "python"
    }
  },
  "cells": [
    {
      "cell_type": "markdown",
      "metadata": {
        "id": "view-in-github",
        "colab_type": "text"
      },
      "source": [
        "<a href=\"https://colab.research.google.com/github/Rim1Lachheb/python/blob/main/First_Colab_File.ipynb\" target=\"_parent\"><img src=\"https://colab.research.google.com/assets/colab-badge.svg\" alt=\"Open In Colab\"/></a>"
      ]
    },
    {
      "cell_type": "code",
      "execution_count": null,
      "metadata": {
        "id": "6cI7RRe_mmyW",
        "colab": {
          "base_uri": "https://localhost:8080/"
        },
        "outputId": "396efc06-91b6-4c0d-d41f-59b83e8a867d"
      },
      "outputs": [
        {
          "output_type": "stream",
          "name": "stdout",
          "text": [
            "Voilà la matrice:  [[1, 2, 3], [4, 5, 6], [7, 8, 9]]\n"
          ]
        }
      ],
      "source": [
        "# commentaire\n",
        "matrix=[ [1,2,3],\n",
        "          [4,5,6],\n",
        "          [7,8,9]]\n",
        "\n",
        "print(\"Voilà la matrice: \" , matrix)"
      ]
    },
    {
      "cell_type": "markdown",
      "source": [],
      "metadata": {
        "id": "0zXlxXjAl_Gx"
      }
    },
    {
      "cell_type": "code",
      "source": [
        "import numpy as np\n",
        "matrice=np.array([[1,2,3],\n",
        "                  [4,5,6],\n",
        "                  [7,8,9]])\n",
        "mean_value=np.mean(matrix)\n",
        "print(\"La Moyenne est égale:\", mean_value)\n"
      ],
      "metadata": {
        "id": "L9tjVhJbsnUV",
        "colab": {
          "base_uri": "https://localhost:8080/"
        },
        "outputId": "ff0b02b8-ba9d-4bb0-9a90-e93a56725da1"
      },
      "execution_count": null,
      "outputs": [
        {
          "output_type": "stream",
          "name": "stdout",
          "text": [
            "La Moyenne est égale: 5.0\n"
          ]
        }
      ]
    },
    {
      "cell_type": "code",
      "source": [
        "median_value=np.median(matrix)\n",
        "print(\"le median est égale:\", median_value)"
      ],
      "metadata": {
        "id": "SGMWZFQ7snjB",
        "colab": {
          "base_uri": "https://localhost:8080/"
        },
        "outputId": "5ea2a653-3458-43a7-e547-06c27653ab80"
      },
      "execution_count": null,
      "outputs": [
        {
          "output_type": "stream",
          "name": "stdout",
          "text": [
            "le median est égale: 5.0\n"
          ]
        }
      ]
    },
    {
      "cell_type": "code",
      "source": [
        "mode_value=np.argmax(matrix)+1\n",
        "print(\"le mode est égale:\",mode_value)"
      ],
      "metadata": {
        "id": "XWPrBrkvsnqg",
        "colab": {
          "base_uri": "https://localhost:8080/"
        },
        "outputId": "87fd46c3-ab03-4443-d7d9-8cb6d309ace2"
      },
      "execution_count": null,
      "outputs": [
        {
          "output_type": "stream",
          "name": "stdout",
          "text": [
            "le mode est égale: 9\n"
          ]
        }
      ]
    },
    {
      "cell_type": "markdown",
      "source": [
        "List\n"
      ],
      "metadata": {
        "id": "6-8GyunotG0U"
      }
    },
    {
      "cell_type": "code",
      "source": [
        "lista=[-25,47,5,8,10]\n",
        "lista"
      ],
      "metadata": {
        "colab": {
          "base_uri": "https://localhost:8080/"
        },
        "id": "78HkhElAtK-u",
        "outputId": "7a210800-97c9-49a0-9b67-0acedd3540b4"
      },
      "execution_count": null,
      "outputs": [
        {
          "output_type": "execute_result",
          "data": {
            "text/plain": [
              "[-25, 47, 5, 8, 10]"
            ]
          },
          "metadata": {},
          "execution_count": 25
        }
      ]
    },
    {
      "cell_type": "code",
      "source": [
        "max(lista)"
      ],
      "metadata": {
        "colab": {
          "base_uri": "https://localhost:8080/"
        },
        "id": "Df1RGPAftim9",
        "outputId": "3be93658-26ba-405f-a814-f70d815302d6"
      },
      "execution_count": null,
      "outputs": [
        {
          "output_type": "execute_result",
          "data": {
            "text/plain": [
              "47"
            ]
          },
          "metadata": {},
          "execution_count": 26
        }
      ]
    },
    {
      "cell_type": "code",
      "source": [
        "min(lista)"
      ],
      "metadata": {
        "colab": {
          "base_uri": "https://localhost:8080/"
        },
        "id": "izYHiz4btmv4",
        "outputId": "e77f47c0-74e9-4963-adad-fbb0b11df2a8"
      },
      "execution_count": null,
      "outputs": [
        {
          "output_type": "execute_result",
          "data": {
            "text/plain": [
              "-25"
            ]
          },
          "metadata": {},
          "execution_count": 27
        }
      ]
    },
    {
      "cell_type": "code",
      "source": [
        "sum(lista)"
      ],
      "metadata": {
        "colab": {
          "base_uri": "https://localhost:8080/"
        },
        "id": "5fez_oQYtokB",
        "outputId": "6360010d-837d-4b80-9147-9bde61d0b2c5"
      },
      "execution_count": null,
      "outputs": [
        {
          "output_type": "execute_result",
          "data": {
            "text/plain": [
              "45"
            ]
          },
          "metadata": {},
          "execution_count": 28
        }
      ]
    },
    {
      "cell_type": "code",
      "source": [
        "lista[0]"
      ],
      "metadata": {
        "colab": {
          "base_uri": "https://localhost:8080/"
        },
        "id": "v1uB2hGwts4T",
        "outputId": "b7d00ab4-9cba-4f6b-a81b-36fd8cc815ea"
      },
      "execution_count": null,
      "outputs": [
        {
          "output_type": "execute_result",
          "data": {
            "text/plain": [
              "-25"
            ]
          },
          "metadata": {},
          "execution_count": 29
        }
      ]
    },
    {
      "cell_type": "markdown",
      "source": [
        "# Git\n"
      ],
      "metadata": {
        "id": "pJ8WYPZmmBZo"
      }
    },
    {
      "cell_type": "code",
      "source": [
        "!git init"
      ],
      "metadata": {
        "colab": {
          "base_uri": "https://localhost:8080/"
        },
        "id": "afeBoP9dmKy6",
        "outputId": "a23fbef6-5197-4308-9b49-bdbba7fe91b3"
      },
      "execution_count": null,
      "outputs": [
        {
          "output_type": "stream",
          "name": "stdout",
          "text": [
            "\u001b[33mhint: Using 'master' as the name for the initial branch. This default branch name\u001b[m\n",
            "\u001b[33mhint: is subject to change. To configure the initial branch name to use in all\u001b[m\n",
            "\u001b[33mhint: of your new repositories, which will suppress this warning, call:\u001b[m\n",
            "\u001b[33mhint: \u001b[m\n",
            "\u001b[33mhint: \tgit config --global init.defaultBranch <name>\u001b[m\n",
            "\u001b[33mhint: \u001b[m\n",
            "\u001b[33mhint: Names commonly chosen instead of 'master' are 'main', 'trunk' and\u001b[m\n",
            "\u001b[33mhint: 'development'. The just-created branch can be renamed via this command:\u001b[m\n",
            "\u001b[33mhint: \u001b[m\n",
            "\u001b[33mhint: \tgit branch -m <name>\u001b[m\n",
            "Initialized empty Git repository in /content/.git/\n"
          ]
        }
      ]
    },
    {
      "cell_type": "code",
      "source": [
        "from google.colab import drive\n",
        "drive.mount('/content/drive')"
      ],
      "metadata": {
        "id": "UGJhtpyrn77J",
        "colab": {
          "base_uri": "https://localhost:8080/"
        },
        "outputId": "09d3b56e-6e72-432c-a520-a42c4f70df43"
      },
      "execution_count": null,
      "outputs": [
        {
          "output_type": "stream",
          "name": "stdout",
          "text": [
            "Mounted at /content/drive\n"
          ]
        }
      ]
    },
    {
      "cell_type": "code",
      "source": [
        "!git add /content/drive/MyDrive/First_Colab_File.ipynb # ipynb : jupyter file (extension)"
      ],
      "metadata": {
        "id": "eB_47HC26P-9"
      },
      "execution_count": 10,
      "outputs": []
    },
    {
      "cell_type": "code",
      "source": [
        "!git status  # To check the current status of repository (master)"
      ],
      "metadata": {
        "colab": {
          "base_uri": "https://localhost:8080/"
        },
        "id": "jxb4BUW39EmR",
        "outputId": "a31f6f57-1895-4c45-bec6-b9467615348c"
      },
      "execution_count": 11,
      "outputs": [
        {
          "output_type": "stream",
          "name": "stdout",
          "text": [
            "On branch master\n",
            "\n",
            "No commits yet\n",
            "\n",
            "Changes to be committed:\n",
            "  (use \"git rm --cached <file>...\" to unstage)\n",
            "\t\u001b[32mnew file:   drive/MyDrive/First_Colab_File.ipynb\u001b[m\n",
            "\n",
            "Changes not staged for commit:\n",
            "  (use \"git add <file>...\" to update what will be committed)\n",
            "  (use \"git restore <file>...\" to discard changes in working directory)\n",
            "\t\u001b[31mmodified:   drive/MyDrive/First_Colab_File.ipynb\u001b[m\n",
            "\n",
            "Untracked files:\n",
            "  (use \"git add <file>...\" to include in what will be committed)\n",
            "\t\u001b[31m.config/\u001b[m\n",
            "\t\u001b[31mdrive/MyDrive/10459043.webp\u001b[m\n",
            "\t\u001b[31mdrive/MyDrive/20240523_195819.jpg\u001b[m\n",
            "\t\u001b[31mdrive/MyDrive/A propos background.jpg\u001b[m\n",
            "\t\u001b[31mdrive/MyDrive/A propos.docx\u001b[m\n",
            "\t\u001b[31mdrive/MyDrive/Capture.PNG\u001b[m\n",
            "\t\u001b[31m\"drive/MyDrive/Chapitre 1 Initiation a\\314\\200 HTML (1).gdoc\"\u001b[m\n",
            "\t\u001b[31m\"drive/MyDrive/Chapitre 1 Initiation a\\314\\200 HTML (2).gdoc\"\u001b[m\n",
            "\t\u001b[31m\"drive/MyDrive/Chapitre 1 Initiation a\\314\\200 HTML.gdoc\"\u001b[m\n",
            "\t\u001b[31mdrive/MyDrive/Chapitre2.docx\u001b[m\n",
            "\t\u001b[31m\"drive/MyDrive/Correction TP Base de donne\\314\\201es Avance\\314\\201es N\\302\\2602.gdoc\"\u001b[m\n",
            "\t\u001b[31m\"drive/MyDrive/Correction TP Base de donne\\314\\201es Avance\\314\\201es N\\302\\2604.gdoc\"\u001b[m\n",
            "\t\u001b[31m\"drive/MyDrive/Cours BD Avance\\314\\201es.gdoc\"\u001b[m\n",
            "\t\u001b[31mdrive/MyDrive/Green and Blue Illustrative Technology Business Plan Presentation (1) (1).pptx\u001b[m\n",
            "\t\u001b[31mdrive/MyDrive/Green and Blue Illustrative Technology Business Plan Presentation (1).pptx\u001b[m\n",
            "\t\u001b[31mdrive/MyDrive/Introduction.pptx\u001b[m\n",
            "\t\u001b[31m\"drive/MyDrive/Maste\\314\\200re/\"\u001b[m\n",
            "\t\u001b[31mdrive/MyDrive/PEF (1).pptx\u001b[m\n",
            "\t\u001b[31mdrive/MyDrive/PEF.pptx\u001b[m\n",
            "\t\u001b[31mdrive/MyDrive/Rapport_de_projet_de_fin_d__tudes___PFE (13).gdoc\u001b[m\n",
            "\t\u001b[31mdrive/MyDrive/Rapport_de_projet_de_fin_d__tudes___PFE (13).pdf\u001b[m\n",
            "\t\u001b[31mdrive/MyDrive/a propos/\u001b[m\n",
            "\t\u001b[31mdrive/MyDrive/design.PNG\u001b[m\n",
            "\t\u001b[31mdrive/MyDrive/designe.PNG\u001b[m\n",
            "\t\u001b[31mdrive/MyDrive/designe1.PNG\u001b[m\n",
            "\t\u001b[31mdrive/MyDrive/developpement.rar\u001b[m\n",
            "\t\u001b[31mdrive/MyDrive/diag sprint ..PNG\u001b[m\n",
            "\t\u001b[31mdrive/MyDrive/download.jpg\u001b[m\n",
            "\t\u001b[31mdrive/MyDrive/gestion de service.PNG\u001b[m\n",
            "\t\u001b[31m\"drive/MyDrive/politique de confidentialite\\314\\201.docx\"\u001b[m\n",
            "\t\u001b[31mdrive/MyDrive/rim (1).pptx\u001b[m\n",
            "\t\u001b[31mdrive/MyDrive/rim.pptx\u001b[m\n",
            "\t\u001b[31mdrive/MyDrive/rim/\u001b[m\n",
            "\t\u001b[31msample_data/\u001b[m\n",
            "\n",
            "\n",
            "It took 74.83 seconds to enumerate untracked files. 'status -uno'\n",
            "may speed it up, but you have to be careful not to forget to add\n",
            "new files yourself (see 'git help status').\n"
          ]
        }
      ]
    },
    {
      "cell_type": "code",
      "source": [
        "!git commit -m \"initial commit at 8pm 24 octobre - icon\""
      ],
      "metadata": {
        "colab": {
          "base_uri": "https://localhost:8080/"
        },
        "id": "SKf80GkRA0zW",
        "outputId": "1bf19c9b-e3e5-409f-f0da-34f695235df6"
      },
      "execution_count": 15,
      "outputs": [
        {
          "output_type": "stream",
          "name": "stdout",
          "text": [
            "Author identity unknown\n",
            "\n",
            "*** Please tell me who you are.\n",
            "\n",
            "Run\n",
            "\n",
            "  git config --global user.email \"you@example.com\"\n",
            "  git config --global user.name \"Your Name\"\n",
            "\n",
            "to set your account's default identity.\n",
            "Omit --global to set the identity only in this repository.\n",
            "\n",
            "fatal: unable to auto-detect email address (got 'root@02bcd6bb0f71.(none)')\n"
          ]
        }
      ]
    },
    {
      "cell_type": "code",
      "source": [
        "# Authentication: email + name\n",
        "!git config --global user.email \"hamdaouiridha8@gmail.com\"\n",
        "!git config --global user.name \"Lachheb Rim\""
      ],
      "metadata": {
        "id": "1_wGOOsuBZ2d"
      },
      "execution_count": 16,
      "outputs": []
    },
    {
      "cell_type": "code",
      "source": [
        "!git commit -m \"second commit\""
      ],
      "metadata": {
        "colab": {
          "base_uri": "https://localhost:8080/"
        },
        "id": "BNzPL-StCJGy",
        "outputId": "76c1f03a-c1f7-4ff4-b07a-c9250328fdf7"
      },
      "execution_count": 19,
      "outputs": [
        {
          "output_type": "stream",
          "name": "stdout",
          "text": [
            "[master (root-commit) 2e3780b] second commit\n",
            " 1 file changed, 1 insertion(+)\n",
            " create mode 100644 drive/MyDrive/First_Colab_File.ipynb\n"
          ]
        }
      ]
    },
    {
      "cell_type": "code",
      "source": [
        "import numpy\n",
        "numpy.__version__"
      ],
      "metadata": {
        "colab": {
          "base_uri": "https://localhost:8080/",
          "height": 36
        },
        "id": "3TRIi_e7CbLX",
        "outputId": "4b3acdee-1b8c-4d1f-e55a-710568b066ed"
      },
      "execution_count": 20,
      "outputs": [
        {
          "output_type": "execute_result",
          "data": {
            "text/plain": [
              "'1.26.4'"
            ],
            "application/vnd.google.colaboratory.intrinsic+json": {
              "type": "string"
            }
          },
          "metadata": {},
          "execution_count": 20
        }
      ]
    },
    {
      "cell_type": "code",
      "source": [
        "!git commit -m \"Initial commit - after numpy\""
      ],
      "metadata": {
        "colab": {
          "base_uri": "https://localhost:8080/"
        },
        "id": "7sCNW34vC7yL",
        "outputId": "5728492a-c071-446f-9da1-93198a918d4e"
      },
      "execution_count": 21,
      "outputs": [
        {
          "output_type": "stream",
          "name": "stdout",
          "text": [
            "On branch master\n",
            "Changes not staged for commit:\n",
            "  (use \"git add <file>...\" to update what will be committed)\n",
            "  (use \"git restore <file>...\" to discard changes in working directory)\n",
            "\t\u001b[31mmodified:   drive/MyDrive/First_Colab_File.ipynb\u001b[m\n",
            "\n",
            "Untracked files:\n",
            "  (use \"git add <file>...\" to include in what will be committed)\n",
            "\t\u001b[31m.config/\u001b[m\n",
            "\t\u001b[31mdrive/MyDrive/10459043.webp\u001b[m\n",
            "\t\u001b[31mdrive/MyDrive/20240523_195819.jpg\u001b[m\n",
            "\t\u001b[31mdrive/MyDrive/A propos background.jpg\u001b[m\n",
            "\t\u001b[31mdrive/MyDrive/A propos.docx\u001b[m\n",
            "\t\u001b[31mdrive/MyDrive/Capture.PNG\u001b[m\n",
            "\t\u001b[31m\"drive/MyDrive/Chapitre 1 Initiation a\\314\\200 HTML (1).gdoc\"\u001b[m\n",
            "\t\u001b[31m\"drive/MyDrive/Chapitre 1 Initiation a\\314\\200 HTML (2).gdoc\"\u001b[m\n",
            "\t\u001b[31m\"drive/MyDrive/Chapitre 1 Initiation a\\314\\200 HTML.gdoc\"\u001b[m\n",
            "\t\u001b[31mdrive/MyDrive/Chapitre2.docx\u001b[m\n",
            "\t\u001b[31m\"drive/MyDrive/Correction TP Base de donne\\314\\201es Avance\\314\\201es N\\302\\2602.gdoc\"\u001b[m\n",
            "\t\u001b[31m\"drive/MyDrive/Correction TP Base de donne\\314\\201es Avance\\314\\201es N\\302\\2604.gdoc\"\u001b[m\n",
            "\t\u001b[31m\"drive/MyDrive/Cours BD Avance\\314\\201es.gdoc\"\u001b[m\n",
            "\t\u001b[31mdrive/MyDrive/Green and Blue Illustrative Technology Business Plan Presentation (1) (1).pptx\u001b[m\n",
            "\t\u001b[31mdrive/MyDrive/Green and Blue Illustrative Technology Business Plan Presentation (1).pptx\u001b[m\n",
            "\t\u001b[31mdrive/MyDrive/Introduction.pptx\u001b[m\n",
            "\t\u001b[31m\"drive/MyDrive/Maste\\314\\200re/\"\u001b[m\n",
            "\t\u001b[31mdrive/MyDrive/PEF (1).pptx\u001b[m\n",
            "\t\u001b[31mdrive/MyDrive/PEF.pptx\u001b[m\n",
            "\t\u001b[31mdrive/MyDrive/Rapport_de_projet_de_fin_d__tudes___PFE (13).gdoc\u001b[m\n",
            "\t\u001b[31mdrive/MyDrive/Rapport_de_projet_de_fin_d__tudes___PFE (13).pdf\u001b[m\n",
            "\t\u001b[31mdrive/MyDrive/a propos/\u001b[m\n",
            "\t\u001b[31mdrive/MyDrive/design.PNG\u001b[m\n",
            "\t\u001b[31mdrive/MyDrive/designe.PNG\u001b[m\n",
            "\t\u001b[31mdrive/MyDrive/designe1.PNG\u001b[m\n",
            "\t\u001b[31mdrive/MyDrive/developpement.rar\u001b[m\n",
            "\t\u001b[31mdrive/MyDrive/diag sprint ..PNG\u001b[m\n",
            "\t\u001b[31mdrive/MyDrive/download.jpg\u001b[m\n",
            "\t\u001b[31mdrive/MyDrive/gestion de service.PNG\u001b[m\n",
            "\t\u001b[31m\"drive/MyDrive/politique de confidentialite\\314\\201.docx\"\u001b[m\n",
            "\t\u001b[31mdrive/MyDrive/rim (1).pptx\u001b[m\n",
            "\t\u001b[31mdrive/MyDrive/rim.pptx\u001b[m\n",
            "\t\u001b[31mdrive/MyDrive/rim/\u001b[m\n",
            "\t\u001b[31msample_data/\u001b[m\n",
            "\n",
            "\n",
            "It took 3.11 seconds to enumerate untracked files. 'status -uno'\n",
            "may speed it up, but you have to be careful not to forget to add\n",
            "new files yourself (see 'git help status').\n",
            "no changes added to commit (use \"git add\" and/or \"git commit -a\")\n"
          ]
        }
      ]
    }
  ]
}